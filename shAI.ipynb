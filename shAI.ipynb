{
 "cells": [
  {
   "cell_type": "markdown",
   "id": "b02ca79b",
   "metadata": {},
   "source": [
    "# Importing Libs"
   ]
  },
  {
   "cell_type": "code",
   "execution_count": 151,
   "id": "5f5cf1d8",
   "metadata": {},
   "outputs": [
    {
     "name": "stdout",
     "output_type": "stream",
     "text": [
      "Collecting xgboostNote: you may need to restart the kernel to use updated packages.\n",
      "\n",
      "  Downloading xgboost-1.6.2-py3-none-win_amd64.whl (125.4 MB)\n",
      "Requirement already satisfied: scipy in d:\\users\\basha\\anaconda3\\lib\\site-packages (from xgboost) (1.7.3)\n",
      "Requirement already satisfied: numpy in d:\\users\\basha\\anaconda3\\lib\\site-packages (from xgboost) (1.21.5)\n",
      "Installing collected packages: xgboost\n",
      "Successfully installed xgboost-1.6.2\n"
     ]
    }
   ],
   "source": [
    "pip install xgboost"
   ]
  },
  {
   "cell_type": "code",
   "execution_count": 152,
   "id": "ec127244",
   "metadata": {},
   "outputs": [],
   "source": [
    "#All the libralies used in this project\n",
    "\n",
    "import numpy as np \n",
    "import pandas as pd \n",
    "import seaborn as sns\n",
    "import matplotlib as mpl\n",
    "import matplotlib.pyplot as plt\n",
    "import matplotlib.pylab as pylab\n",
    "from sklearn.preprocessing import LabelEncoder\n",
    "from sklearn.model_selection import train_test_split\n",
    "from sklearn.preprocessing import StandardScaler\n",
    "from sklearn.pipeline import Pipeline\n",
    "from sklearn.tree import DecisionTreeRegressor\n",
    "from sklearn.ensemble import RandomForestRegressor\n",
    "from xgboost import XGBRegressor\n",
    "from sklearn.metrics import mean_squared_error"
   ]
  },
  {
   "cell_type": "markdown",
   "id": "59376782",
   "metadata": {},
   "source": [
    "# Loading Data\n"
   ]
  },
  {
   "cell_type": "code",
   "execution_count": 74,
   "id": "5f6f7e49",
   "metadata": {},
   "outputs": [
    {
     "name": "stdout",
     "output_type": "stream",
     "text": [
      "(43040, 11)\n"
     ]
    },
    {
     "data": {
      "text/html": [
       "<div>\n",
       "<style scoped>\n",
       "    .dataframe tbody tr th:only-of-type {\n",
       "        vertical-align: middle;\n",
       "    }\n",
       "\n",
       "    .dataframe tbody tr th {\n",
       "        vertical-align: top;\n",
       "    }\n",
       "\n",
       "    .dataframe thead th {\n",
       "        text-align: right;\n",
       "    }\n",
       "</style>\n",
       "<table border=\"1\" class=\"dataframe\">\n",
       "  <thead>\n",
       "    <tr style=\"text-align: right;\">\n",
       "      <th></th>\n",
       "      <th>Unnamed: 0</th>\n",
       "      <th>carat</th>\n",
       "      <th>cut</th>\n",
       "      <th>color</th>\n",
       "      <th>clarity</th>\n",
       "      <th>depth</th>\n",
       "      <th>table</th>\n",
       "      <th>price</th>\n",
       "      <th>x</th>\n",
       "      <th>y</th>\n",
       "      <th>z</th>\n",
       "    </tr>\n",
       "  </thead>\n",
       "  <tbody>\n",
       "    <tr>\n",
       "      <th>0</th>\n",
       "      <td>2</td>\n",
       "      <td>0.21</td>\n",
       "      <td>Premium</td>\n",
       "      <td>E</td>\n",
       "      <td>SI1</td>\n",
       "      <td>59.8</td>\n",
       "      <td>61.0</td>\n",
       "      <td>326</td>\n",
       "      <td>3.89</td>\n",
       "      <td>3.84</td>\n",
       "      <td>2.31</td>\n",
       "    </tr>\n",
       "    <tr>\n",
       "      <th>1</th>\n",
       "      <td>4</td>\n",
       "      <td>0.29</td>\n",
       "      <td>Premium</td>\n",
       "      <td>I</td>\n",
       "      <td>VS2</td>\n",
       "      <td>62.4</td>\n",
       "      <td>58.0</td>\n",
       "      <td>334</td>\n",
       "      <td>4.20</td>\n",
       "      <td>4.23</td>\n",
       "      <td>2.63</td>\n",
       "    </tr>\n",
       "    <tr>\n",
       "      <th>2</th>\n",
       "      <td>5</td>\n",
       "      <td>0.31</td>\n",
       "      <td>Good</td>\n",
       "      <td>J</td>\n",
       "      <td>SI2</td>\n",
       "      <td>63.3</td>\n",
       "      <td>58.0</td>\n",
       "      <td>335</td>\n",
       "      <td>4.34</td>\n",
       "      <td>4.35</td>\n",
       "      <td>2.75</td>\n",
       "    </tr>\n",
       "    <tr>\n",
       "      <th>3</th>\n",
       "      <td>6</td>\n",
       "      <td>0.24</td>\n",
       "      <td>Very Good</td>\n",
       "      <td>J</td>\n",
       "      <td>VVS2</td>\n",
       "      <td>62.8</td>\n",
       "      <td>57.0</td>\n",
       "      <td>336</td>\n",
       "      <td>3.94</td>\n",
       "      <td>3.96</td>\n",
       "      <td>2.48</td>\n",
       "    </tr>\n",
       "    <tr>\n",
       "      <th>4</th>\n",
       "      <td>7</td>\n",
       "      <td>0.24</td>\n",
       "      <td>Very Good</td>\n",
       "      <td>I</td>\n",
       "      <td>VVS1</td>\n",
       "      <td>62.3</td>\n",
       "      <td>57.0</td>\n",
       "      <td>336</td>\n",
       "      <td>3.95</td>\n",
       "      <td>3.98</td>\n",
       "      <td>2.47</td>\n",
       "    </tr>\n",
       "    <tr>\n",
       "      <th>5</th>\n",
       "      <td>9</td>\n",
       "      <td>0.22</td>\n",
       "      <td>Fair</td>\n",
       "      <td>E</td>\n",
       "      <td>VS2</td>\n",
       "      <td>65.1</td>\n",
       "      <td>61.0</td>\n",
       "      <td>337</td>\n",
       "      <td>3.87</td>\n",
       "      <td>3.78</td>\n",
       "      <td>2.49</td>\n",
       "    </tr>\n",
       "  </tbody>\n",
       "</table>\n",
       "</div>"
      ],
      "text/plain": [
       "   Unnamed: 0  carat        cut color clarity  depth  table  price     x  \\\n",
       "0           2   0.21    Premium     E     SI1   59.8   61.0    326  3.89   \n",
       "1           4   0.29    Premium     I     VS2   62.4   58.0    334  4.20   \n",
       "2           5   0.31       Good     J     SI2   63.3   58.0    335  4.34   \n",
       "3           6   0.24  Very Good     J    VVS2   62.8   57.0    336  3.94   \n",
       "4           7   0.24  Very Good     I    VVS1   62.3   57.0    336  3.95   \n",
       "5           9   0.22       Fair     E     VS2   65.1   61.0    337  3.87   \n",
       "\n",
       "      y     z  \n",
       "0  3.84  2.31  \n",
       "1  4.23  2.63  \n",
       "2  4.35  2.75  \n",
       "3  3.96  2.48  \n",
       "4  3.98  2.47  \n",
       "5  3.78  2.49  "
      ]
     },
     "execution_count": 74,
     "metadata": {},
     "output_type": "execute_result"
    }
   ],
   "source": [
    "df = pd.read_csv('train.csv')\n",
    "print(df.shape)\n",
    "df.head(6)"
   ]
  },
  {
   "cell_type": "markdown",
   "id": "fce38b4a",
   "metadata": {},
   "source": [
    "# Data pre-processing"
   ]
  },
  {
   "cell_type": "code",
   "execution_count": 75,
   "id": "232673a1",
   "metadata": {},
   "outputs": [
    {
     "name": "stdout",
     "output_type": "stream",
     "text": [
      "<class 'pandas.core.frame.DataFrame'>\n",
      "RangeIndex: 43040 entries, 0 to 43039\n",
      "Data columns (total 11 columns):\n",
      " #   Column      Non-Null Count  Dtype  \n",
      "---  ------      --------------  -----  \n",
      " 0   Unnamed: 0  43040 non-null  int64  \n",
      " 1   carat       43040 non-null  float64\n",
      " 2   cut         43040 non-null  object \n",
      " 3   color       43040 non-null  object \n",
      " 4   clarity     43040 non-null  object \n",
      " 5   depth       43040 non-null  float64\n",
      " 6   table       43040 non-null  float64\n",
      " 7   price       43040 non-null  int64  \n",
      " 8   x           43040 non-null  float64\n",
      " 9   y           43040 non-null  float64\n",
      " 10  z           43040 non-null  float64\n",
      "dtypes: float64(6), int64(2), object(3)\n",
      "memory usage: 3.6+ MB\n"
     ]
    }
   ],
   "source": [
    "df.info()"
   ]
  },
  {
   "cell_type": "code",
   "execution_count": 76,
   "id": "41926425",
   "metadata": {},
   "outputs": [
    {
     "name": "stdout",
     "output_type": "stream",
     "text": [
      "(43023, 11)\n"
     ]
    }
   ],
   "source": [
    "#Dropping dimentionless diamonds (outliers, impossible to have a 1D or 2D with 0 length)\n",
    "df = df.drop(df[df[\"x\"]==0].index)\n",
    "df = df.drop(df[df[\"y\"]==0].index)\n",
    "df = df.drop(df[df[\"z\"]==0].index)\n",
    "print(df.shape)"
   ]
  },
  {
   "cell_type": "code",
   "execution_count": 211,
   "id": "6985c388",
   "metadata": {},
   "outputs": [
    {
     "data": {
      "text/plain": [
       "<AxesSubplot:xlabel='[price]', ylabel='[z]'>"
      ]
     },
     "execution_count": 211,
     "metadata": {},
     "output_type": "execute_result"
    },
    {
     "data": {
      "image/png": "[encoded data removed]",
      "text/plain": [
       "<Figure size 1440x360 with 1 Axes>"
      ]
     },
     "metadata": {
      "needs_background": "light"
     },
     "output_type": "display_data"
    },
    {
     "data": {
      "image/png": "[encoded data removed]",
      "text/plain": [
       "<Figure size 1440x360 with 1 Axes>"
      ]
     },
     "metadata": {
      "needs_background": "light"
     },
     "output_type": "display_data"
    },
    {
     "data": {
      "image/png": "[encoded data removed]",
      "text/plain": [
       "<Figure size 1440x360 with 1 Axes>"
      ]
     },
     "metadata": {
      "needs_background": "light"
     },
     "output_type": "display_data"
    }
   ],
   "source": [
    "# plotting outliers\n",
    "df.plot(x=['price'], y=['x'],\n",
    "        kind=\"scatter\", figsize=(20, 5))\n",
    "df.plot(x=['price'], y=['y'],\n",
    "        kind=\"scatter\", figsize=(20, 5))\n",
    "df.plot(x=['price'], y=['z'],\n",
    "        kind=\"scatter\", figsize=(20, 5))"
   ]
  },
  {
   "cell_type": "code",
   "execution_count": 78,
   "id": "7740ae89",
   "metadata": {},
   "outputs": [
    {
     "name": "stderr",
     "output_type": "stream",
     "text": [
      "C:\\Users\\Basha\\AppData\\Local\\Temp\\ipykernel_11964\\2385169578.py:6: UserWarning: Boolean Series key will be reindexed to match DataFrame index.\n",
      "  df = df[(df[\"z\"]<30)&(data[\"z\"]>2)]\n"
     ]
    },
    {
     "data": {
      "text/plain": [
       "(43010, 11)"
      ]
     },
     "execution_count": 78,
     "metadata": {},
     "output_type": "execute_result"
    }
   ],
   "source": [
    "#Dropping the outliers.  (doesn't affect my train data, but it could affect on test.csv)\n",
    "df = df[(df[\"depth\"]<75)&(df[\"depth\"]>45)]\n",
    "df = df[(df[\"table\"]<80)&(df[\"table\"]>40)]\n",
    "df = df[(df[\"x\"]<30)]\n",
    "df = df[(df[\"y\"]<30)]\n",
    "df = df[(df[\"z\"]<30)&(data[\"z\"]>2)]\n",
    "df.shape"
   ]
  },
  {
   "cell_type": "code",
   "execution_count": 79,
   "id": "465af875",
   "metadata": {},
   "outputs": [
    {
     "name": "stdout",
     "output_type": "stream",
     "text": [
      "Categorical variables:\n",
      "['cut', 'color', 'clarity']\n"
     ]
    }
   ],
   "source": [
    "# Get list of categorical variables\n",
    "df = data\n",
    "s = (df.dtypes ==\"object\")\n",
    "object_cols = list(s[s].index)\n",
    "print(\"Categorical variables:\")\n",
    "print(object_cols)"
   ]
  },
  {
   "cell_type": "code",
   "execution_count": 200,
   "id": "7700e35c",
   "metadata": {},
   "outputs": [
    {
     "name": "stdout",
     "output_type": "stream",
     "text": [
      "<bound method NDFrame.head of        Unnamed: 0  carat  depth  table  price     x     y     z  cut_Fair  \\\n",
      "0               2   0.21   59.8   61.0    326  3.89  3.84  2.31         0   \n",
      "1               4   0.29   62.4   58.0    334  4.20  4.23  2.63         0   \n",
      "2               5   0.31   63.3   58.0    335  4.34  4.35  2.75         0   \n",
      "3               6   0.24   62.8   57.0    336  3.94  3.96  2.48         0   \n",
      "4               7   0.24   62.3   57.0    336  3.95  3.98  2.47         0   \n",
      "...           ...    ...    ...    ...    ...   ...   ...   ...       ...   \n",
      "43035       53935   0.72   62.7   59.0   2757  5.69  5.73  3.58         0   \n",
      "43036       53936   0.72   60.8   57.0   2757  5.75  5.76  3.50         0   \n",
      "43037       53937   0.72   63.1   55.0   2757  5.69  5.75  3.61         0   \n",
      "43038       53939   0.86   61.0   58.0   2757  6.15  6.12  3.74         0   \n",
      "43039       53940   0.75   62.2   55.0   2757  5.83  5.87  3.64         0   \n",
      "\n",
      "       cut_Good  ...  clarity_VS2  clarity_VVS1  clarity_VVS2  color_D  \\\n",
      "0             0  ...            0             0             0        0   \n",
      "1             0  ...            1             0             0        0   \n",
      "2             1  ...            0             0             0        0   \n",
      "3             0  ...            0             0             1        0   \n",
      "4             0  ...            0             1             0        0   \n",
      "...         ...  ...          ...           ...           ...      ...   \n",
      "43035         0  ...            0             0             0        1   \n",
      "43036         0  ...            0             0             0        1   \n",
      "43037         1  ...            0             0             0        1   \n",
      "43038         0  ...            0             0             0        0   \n",
      "43039         0  ...            0             0             0        1   \n",
      "\n",
      "       color_E  color_F  color_G  color_H  color_I  color_J  \n",
      "0            1        0        0        0        0        0  \n",
      "1            0        0        0        0        1        0  \n",
      "2            0        0        0        0        0        1  \n",
      "3            0        0        0        0        0        1  \n",
      "4            0        0        0        0        1        0  \n",
      "...        ...      ...      ...      ...      ...      ...  \n",
      "43035        0        0        0        0        0        0  \n",
      "43036        0        0        0        0        0        0  \n",
      "43037        0        0        0        0        0        0  \n",
      "43038        0        0        0        1        0        0  \n",
      "43039        0        0        0        0        0        0  \n",
      "\n",
      "[43040 rows x 28 columns]>\n"
     ]
    },
    {
     "data": {
      "text/plain": [
       "'\\n# Make copy to avoid changing original data \\ndf_new = df.copy()\\n\\n# Label Encoding\\nlabel_encoder = LabelEncoder()\\nfor col in object_cols:\\n    df_new[col] = label_encoder.fit_transform(df_new[col])\\ndf_new.head()\\n'"
      ]
     },
     "execution_count": 200,
     "metadata": {},
     "output_type": "execute_result"
    }
   ],
   "source": [
    "# One Hot Encoding [better than labeling]\n",
    "df_new = pd.get_dummies(data=df, columns=['cut', 'clarity', 'color'])\n",
    "print(df_new.shape)\n",
    "'''\n",
    "# Make copy to avoid changing original data \n",
    "df_new = df.copy()\n",
    "\n",
    "# Label Encoding\n",
    "label_encoder = LabelEncoder()\n",
    "for col in object_cols:\n",
    "    df_new[col] = label_encoder.fit_transform(df_new[col])\n",
    "df_new.head()\n",
    "'''"
   ]
  },
  {
   "cell_type": "code",
   "execution_count": 207,
   "id": "f10b7f4b",
   "metadata": {},
   "outputs": [
    {
     "data": {
      "text/plain": [
       "(431, 26)"
      ]
     },
     "execution_count": 207,
     "metadata": {},
     "output_type": "execute_result"
    }
   ],
   "source": [
    "X = df_new.drop(['price', 'Unnamed: 0'], axis = 1)\n",
    "y = df_new['price']\n",
    "X_train, X_test, y_train, y_test = train_test_split(X, y, test_size=0.01, random_state=31)\n",
    "X_test.shape"
   ]
  },
  {
   "cell_type": "code",
   "execution_count": 208,
   "id": "e9cc9160",
   "metadata": {},
   "outputs": [
    {
     "data": {
      "text/plain": [
       "Pipeline(steps=[('scalar', StandardScaler()),\n",
       "                ('rf_classifier', RandomForestRegressor())])"
      ]
     },
     "execution_count": 208,
     "metadata": {},
     "output_type": "execute_result"
    }
   ],
   "source": [
    "# Building pipelins of standard scaler and model for varios regressors.\n",
    "\n",
    "pipeline_rf=Pipeline([(\"scalar\",StandardScaler()),\n",
    "                     (\"rf_classifier\",RandomForestRegressor())])\n",
    "pipeline_rf.fit(X_train, y_train)"
   ]
  },
  {
   "cell_type": "code",
   "execution_count": 209,
   "id": "a67f2f62",
   "metadata": {},
   "outputs": [],
   "source": [
    "# Model prediction on test data\n",
    "pred = pipeline_rf.predict(X_test) #BEST I GOT RMSE: 411.85359908571917 /random_state =31 /test_size=0.01"
   ]
  },
  {
   "cell_type": "code",
   "execution_count": 210,
   "id": "615f35a7",
   "metadata": {},
   "outputs": [
    {
     "name": "stdout",
     "output_type": "stream",
     "text": [
      "RMSE: 411.85359908571917\n"
     ]
    }
   ],
   "source": [
    "# Model Evaluation\n",
    "print(\"RMSE:\",np.sqrt(mean_squared_error(y_test, pred)))"
   ]
  },
  {
   "cell_type": "code",
   "execution_count": 206,
   "id": "91d4fe37",
   "metadata": {},
   "outputs": [
    {
     "name": "stdout",
     "output_type": "stream",
     "text": [
      "0 RMSE: 572.1332722177485\n",
      "1 RMSE: 493.75916759451803\n",
      "2 RMSE: 805.1241401736819\n",
      "3 RMSE: 482.4041327079993\n",
      "4 RMSE: 509.05626514350797\n",
      "5 RMSE: 542.0363143655738\n",
      "6 RMSE: 488.9386712995217\n",
      "7 RMSE: 615.2865364652193\n",
      "8 RMSE: 519.0821778610076\n",
      "9 RMSE: 606.6892217301738\n",
      "10 RMSE: 497.28921635268057\n",
      "11 RMSE: 604.6579108503962\n",
      "12 RMSE: 501.955185114466\n",
      "13 RMSE: 500.22085022493866\n",
      "14 RMSE: 584.6179359742442\n",
      "15 RMSE: 578.45520467051\n",
      "16 RMSE: 472.9406778530038\n",
      "17 RMSE: 633.6120770674896\n",
      "18 RMSE: 531.9281504368925\n",
      "19 RMSE: 652.8792561034468\n",
      "20 RMSE: 666.2890881223791\n",
      "21 RMSE: 473.82745222154745\n",
      "22 RMSE: 567.2204280151021\n",
      "23 RMSE: 599.5014335291979\n",
      "24 RMSE: 574.3937809087527\n",
      "25 RMSE: 502.90345382697245\n",
      "26 RMSE: 653.2548578370745\n",
      "27 RMSE: 537.9358755540454\n",
      "28 RMSE: 520.8353271709295\n",
      "29 RMSE: 459.19091470604496\n",
      "30 RMSE: 592.1337180523459\n",
      "31 RMSE: 413.71166708570007\n",
      "32 RMSE: 566.5544138344413\n",
      "33 RMSE: 613.6736981439177\n",
      "34 RMSE: 539.9849604507577\n",
      "35 RMSE: 546.3747137165221\n",
      "36 RMSE: 523.0584732523702\n",
      "37 RMSE: 562.5311259792961\n",
      "38 RMSE: 528.7804531268517\n",
      "39 RMSE: 627.888989294215\n",
      "40 RMSE: 618.303843442063\n",
      "41 RMSE: 637.2989888427402\n",
      "42 RMSE: 646.2279534468403\n",
      "43 RMSE: 606.9386993279037\n",
      "44 RMSE: 460.31180634800995\n",
      "45 RMSE: 467.1558572097717\n",
      "46 RMSE: 495.8282462007716\n",
      "47 RMSE: 813.8838138202467\n",
      "48 RMSE: 526.7168933377401\n",
      "49 RMSE: 531.5576896781989\n",
      "413.71166708570007\n"
     ]
    }
   ],
   "source": [
    "# Finding the best random_state, it gave me 31\n",
    "ls = []\n",
    "for i in range(50):\n",
    "    X_train, X_test, y_train, y_test = train_test_split(X, y, test_size=0.01, random_state=i)\n",
    "    pipeline_rf=Pipeline([(\"scalar\",StandardScaler()),\n",
    "                     (\"rf_classifier\",RandomForestRegressor())])\n",
    "    pipeline_rf.fit(X_train, y_train)\n",
    "    pred = pipeline_rf.predict(X_test)\n",
    "    print(i, \"RMSE:\",np.sqrt(mean_squared_error(y_test, pred)))\n",
    "    ls.append(np.sqrt(mean_squared_error(y_test, pred)))\n",
    "print(min(ls))"
   ]
  },
  {
   "cell_type": "code",
   "execution_count": null,
   "id": "453faf19",
   "metadata": {},
   "outputs": [],
   "source": []
  }
 ],
 "metadata": {
  "kernelspec": {
   "display_name": "Python 3 (ipykernel)",
   "language": "python",
   "name": "python3"
  },
  "language_info": {
   "codemirror_mode": {
    "name": "ipython",
    "version": 3
   },
   "file_extension": ".py",
   "mimetype": "text/x-python",
   "name": "python",
   "nbconvert_exporter": "python",
   "pygments_lexer": "ipython3",
   "version": "3.9.12"
  }
 },
 "nbformat": 4,
 "nbformat_minor": 5
}
